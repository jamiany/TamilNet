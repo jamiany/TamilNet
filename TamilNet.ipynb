{
 "cells": [
  {
   "cell_type": "code",
   "execution_count": 2,
   "id": "b2cf6140",
   "metadata": {},
   "outputs": [],
   "source": [
    "import numpy as np\n",
    "import pandas as pd\n",
    "import matplotlib.pyplot as plt\n",
    "import cv2\n",
    "from PIL import Image\n",
    "import torch\n",
    "import torchvision\n",
    "import torch.nn as nn\n",
    "import torch.nn.functional as F\n",
    "import torch.optim as optim\n",
    "from torchvision import datasets, transforms\n",
    "from torch.utils.data import ConcatDataset"
   ]
  },
  {
   "cell_type": "code",
   "execution_count": 3,
   "id": "f80d4a35",
   "metadata": {},
   "outputs": [
    {
     "name": "stdout",
     "output_type": "stream",
     "text": [
      "cuda\n"
     ]
    }
   ],
   "source": [
    "device = torch.device(\"mps\" if torch.mps.is_available() else \"cpu\")\n",
    "device = torch.device(\"cuda\" if torch.cuda.is_available() else device)\n",
    "print(device)"
   ]
  },
  {
   "cell_type": "code",
   "execution_count": 4,
   "id": "daaba606",
   "metadata": {},
   "outputs": [],
   "source": [
    "def image_show(img, grid = None):\n",
    "    img_arr = img.permute(1, 2, 0).numpy()\n",
    "    w = 1 if grid == None else grid\n",
    "    plt.figure(figsize=(w, w), frameon=False)\n",
    "    plt.axes([0, 0, 1, w])\n",
    "    plt.imshow(img_arr, cmap='gray')\n",
    "    plt.axis(False)\n",
    "    plt.show()"
   ]
  },
  {
   "cell_type": "code",
   "execution_count": 5,
   "id": "bc100cc0",
   "metadata": {},
   "outputs": [],
   "source": [
    "class MorphologicalSmoothing:\n",
    "    def __init__(self, debug = False):\n",
    "        \n",
    "        self.debug = debug\n",
    "\n",
    "    def __call__(self, img):\n",
    "\n",
    "        img_np = np.array(img.convert('L'))\n",
    "        self.debug_image(img_np)\n",
    "\n",
    "        inverted = cv2.bitwise_not(img_np)\n",
    "        self.debug_image(inverted)  \n",
    "\n",
    "        _, thresh = cv2.threshold(inverted, 10, 255, cv2.THRESH_BINARY)\n",
    "        coords = cv2.findNonZero(thresh)\n",
    "        x, y, w, h = cv2.boundingRect(coords)  # Get bounding box\n",
    "        cropped = inverted[y:y+h, x:x+w]\n",
    "\n",
    "        padding = 6\n",
    "        padded = cv2.copyMakeBorder(\n",
    "            cropped, padding, padding, padding, padding,\n",
    "            cv2.BORDER_CONSTANT, value=0\n",
    "        )\n",
    "        resized = cv2.resize(padded, (img_np.shape[1], img_np.shape[0]), interpolation=cv2.INTER_LINEAR)\n",
    "        self.debug_image(resized)  \n",
    "\n",
    "        kernel = np.ones((2, 2), np.uint8)\n",
    "        # eroded = cv2.erode(inverted, kernel, iterations=2)\n",
    "        dilated = cv2.dilate(resized, kernel, iterations=2)\n",
    "        self.debug_image(dilated)\n",
    "        opened = cv2.morphologyEx(dilated, cv2.MORPH_OPEN, kernel)\n",
    "        self.debug_image(opened)\n",
    "        closed = cv2.morphologyEx(opened, cv2.MORPH_CLOSE, kernel)\n",
    "        self.debug_image(closed)\n",
    "\n",
    "        blurred = cv2.GaussianBlur(closed, (7, 7), 0)\n",
    "        self.debug_image(blurred)\n",
    "        # _, smoothed = cv2.threshold(blurred, 80, 200, cv2.THRESH_BINARY)\n",
    "\n",
    "        resized = cv2.resize(blurred, (64, 64))\n",
    "        return Image.fromarray(resized)\n",
    "    \n",
    "    def debug_image(self, img):\n",
    "        \n",
    "        if self.debug:\n",
    "            tensored = transforms.ToTensor()(cv2.resize(img, (64, 64)))\n",
    "            normalized = transforms.Normalize((0.5), (0.5))(tensored)\n",
    "            image_show(normalized, 3)"
   ]
  },
  {
   "cell_type": "code",
   "execution_count": 6,
   "id": "c3cfc857-afaf-4891-b9a8-523d35519fff",
   "metadata": {},
   "outputs": [],
   "source": [
    "def get_rotated_transform(angle):\n",
    "    return transforms.Compose([\n",
    "        MorphologicalSmoothing(False),\n",
    "        transforms.Lambda(lambda img: torchvision.transforms.functional.rotate(img, angle)),\n",
    "        transforms.ToTensor(),\n",
    "        transforms.Normalize((0.5,), (0.5,))\n",
    "    ])"
   ]
  },
  {
   "cell_type": "code",
   "execution_count": 7,
   "id": "6d7f4d23",
   "metadata": {},
   "outputs": [],
   "source": [
    "train_dir = 'data/images/train'\n",
    "test_dir = 'data/images/test'\n",
    "rotation_angles = [-15, -10, -5, 0, 5, 10, 15]\n",
    "\n",
    "transform = transforms.Compose([MorphologicalSmoothing(False), transforms.ToTensor(), transforms.Normalize((0.5), (0.5))])\n",
    "rotated_datasets = [datasets.ImageFolder(train_dir, transform=get_rotated_transform(a)) for a in rotation_angles]\n",
    "augmented_dataset = ConcatDataset(rotated_datasets)\n",
    "\n",
    "set_size = int(round(0.8 * len(augmented_dataset)))\n",
    "trainset, valset = torch.utils.data.random_split(augmented_dataset, [set_size, len(augmented_dataset) - set_size], generator=torch.Generator().manual_seed(91))\n",
    "testset = datasets.ImageFolder(test_dir, transform)\n",
    "training_loader = torch.utils.data.DataLoader(trainset, batch_size=128, shuffle=True)\n",
    "validation_loader = torch.utils.data.DataLoader(valset, batch_size=128, shuffle=True)\n",
    "test_loader = torch.utils.data.DataLoader(testset, batch_size=128, shuffle=True)"
   ]
  },
  {
   "cell_type": "code",
   "execution_count": 8,
   "id": "6c34716f",
   "metadata": {},
   "outputs": [
    {
     "name": "stdout",
     "output_type": "stream",
     "text": [
      "['அ', 'ஆ', 'இ', 'ஈ', 'உ', 'ஊ', 'எ', 'ஏ', 'ஐ', 'ஒ', 'ஓ', 'ஃ', 'க', 'ங', 'ச', 'ஞ', 'ட', 'ண', 'த', 'ந', 'ப', 'ம', 'ய', 'ர', 'ல', 'வ', 'ழ', 'ள', 'ற', 'ன', 'ஸ', 'ஷ', 'ஜ', 'ஹ', 'க்ஷ', 'கி', 'ஙி', 'சி', 'ஞி', 'டி', 'ணி', 'தி', 'நி', 'பி', 'மி', 'யி', 'ரி', 'லி', 'வி', 'ழி', 'ளி', 'றி', 'னி', 'ஸி', 'ஷி', 'ஜி', 'ஹி', 'க்ஷி', 'கீ', 'ஙீ', 'சீ', 'ஞீ', 'டீ', 'ணீ', 'தீ', 'நீ', 'பீ', 'மீ', 'யீ', 'ரீ', 'லீ', 'வீ', 'ழீ', 'ளீ', 'றீ', 'னீ', 'ஸீ', 'ஷீ', 'ஜீ', 'ஹீ', 'க்ஷீ', 'கு', 'ஙு', 'சு', 'ஞு', 'டு', 'ணு', 'து', 'நு', 'பு', 'மு', 'யு', 'ரு', 'லு', 'வு', 'ழு', 'ளு', 'று', 'னு', 'கூ', 'ஙூ', 'சூ', 'ஞூ', 'டூ', 'ணூ', 'தூ', 'நூ', 'பூ', 'மூ', 'யூ', 'ரூ', 'லூ', 'வூ', 'ழூ', 'ளூ', 'றூ', 'னூ', 'ா', 'ெ', 'ே', 'ை', 'ஸ்ரீ', 'ஸு', 'ஷு', 'ஜு', 'ஹு', 'க்ஷு', 'ஸூ', 'ஷூ', 'ஜூ', 'ஹூ', 'க்ஷூ', 'க்', 'ங்', 'ச்', 'ஞ்', 'ட்', 'ண்', 'த்', 'ந்', 'ப்', 'ம்', 'ய்', 'ர்', 'ல்', 'வ்', 'ழ்', 'ள்', 'ற்', 'ன்', 'ஸ்', 'ஷ்', 'ஜ்', 'ஹ்', 'க்ஷ்', 'ஔ']\n",
      "156\n",
      "['அ', 'ஆ', 'ஓ', 'ஙூ', 'சூ', 'ஞூ', 'டூ', 'ணூ', 'தூ', 'நூ', 'பூ', 'மூ', 'யூ', 'ஃ', 'ரூ', 'லூ', 'வூ', 'ழூ', 'ளூ', 'றூ', 'னூ', 'ா', 'ெ', 'ே', 'க', 'ை', 'ஸ்ரீ', 'ஸு', 'ஷு', 'ஜு', 'ஹு', 'க்ஷு', 'ஸூ', 'ஷூ', 'ஜூ', 'ங', 'ஹூ', 'க்ஷூ', 'க்', 'ங்', 'ச்', 'ஞ்', 'ட்', 'ண்', 'த்', 'ந்', 'ச', 'ப்', 'ம்', 'ய்', 'ர்', 'ல்', 'வ்', 'ழ்', 'ள்', 'ற்', 'ன்', 'ஞ', 'ஸ்', 'ஷ்', 'ஜ்', 'ஹ்', 'க்ஷ்', 'ஔ', 'ட', 'ண', 'த', 'ந', 'இ', 'ப', 'ம', 'ய', 'ர', 'ல', 'வ', 'ழ', 'ள', 'ற', 'ன', 'ஈ', 'ஸ', 'ஷ', 'ஜ', 'ஹ', 'க்ஷ', 'கி', 'ஙி', 'சி', 'ஞி', 'டி', 'உ', 'ணி', 'தி', 'நி', 'பி', 'மி', 'யி', 'ரி', 'லி', 'வி', 'ழி', 'ஊ', 'ளி', 'றி', 'னி', 'ஸி', 'ஷி', 'ஜி', 'ஹி', 'க்ஷி', 'கீ', 'ஙீ', 'எ', 'சீ', 'ஞீ', 'டீ', 'ணீ', 'தீ', 'நீ', 'பீ', 'மீ', 'யீ', 'ரீ', 'ஏ', 'லீ', 'வீ', 'ழீ', 'ளீ', 'றீ', 'னீ', 'ஸீ', 'ஷீ', 'ஜீ', 'ஹீ', 'ஐ', 'க்ஷீ', 'கு', 'ஙு', 'சு', 'ஞு', 'டு', 'ணு', 'து', 'நு', 'பு', 'ஒ', 'மு', 'யு', 'ரு', 'லு', 'வு', 'ழு', 'ளு', 'று', 'னு', 'கூ']\n"
     ]
    }
   ],
   "source": [
    "df = pd.read_csv('data/TamilChar.csv', header=0)\n",
    "char_list = [''.join(chr(int(f\"0x{code}\", 16)) for code in element.split(' ')) for element in df[\"Unicode\"]]\n",
    "\n",
    "print(char_list)\n",
    "print(len(char_list))\n",
    "\n",
    "classes = []\n",
    "for i in range(156):\n",
    "    index = int(testset.classes[i])\n",
    "    char = char_list[index]\n",
    "    classes.append(char)\n",
    "\n",
    "print(classes)"
   ]
  },
  {
   "cell_type": "code",
   "execution_count": 9,
   "id": "f6d14acb",
   "metadata": {},
   "outputs": [
    {
     "data": {
      "image/png": "[encoded data removed]",
      "text/plain": [
       "<Figure size 100x100 with 1 Axes>"
      ]
     },
     "metadata": {},
     "output_type": "display_data"
    },
    {
     "name": "stdout",
     "output_type": "stream",
     "text": [
      "5\n",
      "torch.Size([1, 64, 64])\n"
     ]
    }
   ],
   "source": [
    "feature, label = trainset.__getitem__(1)\n",
    "image_show(feature)\n",
    "print(label)\n",
    "print(feature.shape)"
   ]
  },
  {
   "cell_type": "code",
   "execution_count": 10,
   "id": "df3cdd97",
   "metadata": {},
   "outputs": [
    {
     "data": {
      "text/plain": [
       "DeepTamil2(\n",
       "  (pool): MaxPool2d(kernel_size=2, stride=2, padding=0, dilation=1, ceil_mode=False)\n",
       "  (conv1): Conv2d(1, 32, kernel_size=(3, 3), stride=(1, 1), padding=(1, 1))\n",
       "  (conv2): Conv2d(32, 32, kernel_size=(3, 3), stride=(1, 1), padding=(1, 1))\n",
       "  (bn1): BatchNorm2d(32, eps=1e-05, momentum=0.1, affine=True, track_running_stats=True)\n",
       "  (conv3): Conv2d(32, 64, kernel_size=(3, 3), stride=(1, 1), padding=(1, 1))\n",
       "  (conv4): Conv2d(64, 64, kernel_size=(3, 3), stride=(1, 1), padding=(1, 1))\n",
       "  (bn2): BatchNorm2d(64, eps=1e-05, momentum=0.1, affine=True, track_running_stats=True)\n",
       "  (conv5): Conv2d(64, 128, kernel_size=(3, 3), stride=(1, 1), padding=(1, 1))\n",
       "  (conv6): Conv2d(128, 128, kernel_size=(3, 3), stride=(1, 1), padding=(1, 1))\n",
       "  (bn3): BatchNorm2d(128, eps=1e-05, momentum=0.1, affine=True, track_running_stats=True)\n",
       "  (conv7): Conv2d(128, 128, kernel_size=(3, 3), stride=(1, 1), padding=(1, 1))\n",
       "  (conv8): Conv2d(128, 128, kernel_size=(3, 3), stride=(1, 1), padding=(1, 1))\n",
       "  (bn4): BatchNorm2d(128, eps=1e-05, momentum=0.1, affine=True, track_running_stats=True)\n",
       "  (fc1): Linear(in_features=2048, out_features=1024, bias=True)\n",
       "  (fc2): Linear(in_features=1024, out_features=512, bias=True)\n",
       "  (fc3): Linear(in_features=512, out_features=256, bias=True)\n",
       "  (fc4): Linear(in_features=256, out_features=156, bias=True)\n",
       ")"
      ]
     },
     "execution_count": 10,
     "metadata": {},
     "output_type": "execute_result"
    }
   ],
   "source": [
    "class DeepTamil2(nn.Module):\n",
    "    def __init__(self):\n",
    "        super(DeepTamil2, self).__init__()\n",
    "        \n",
    "        self.pool = nn.MaxPool2d(2, 2)\n",
    "        \n",
    "        self.conv1 = nn.Conv2d(1, 32, 3, padding=1)\n",
    "        self.conv2 = nn.Conv2d(32, 32, 3, padding=1)\n",
    "        self.bn1 = nn.BatchNorm2d(32)\n",
    "\n",
    "        self.conv3 = nn.Conv2d(32, 64, 3, padding=1)\n",
    "        self.conv4 = nn.Conv2d(64, 64, 3, padding=1)\n",
    "        self.bn2 = nn.BatchNorm2d(64)\n",
    "        \n",
    "\n",
    "        self.conv5 = nn.Conv2d(64, 128, 3, padding=1)\n",
    "        self.conv6 = nn.Conv2d(128, 128, 3, padding=1)\n",
    "        self.bn3 = nn.BatchNorm2d(128)\n",
    "\n",
    "        self.conv7 = nn.Conv2d(128, 128, 3, padding=1)\n",
    "        self.conv8 = nn.Conv2d(128, 128, 3, padding=1)\n",
    "        self.bn4 = nn.BatchNorm2d(128)\n",
    "\n",
    "        self.fc1 = nn.Linear(128 * 4 * 4, 1024)\n",
    "        self.fc2 = nn.Linear(1024, 512)\n",
    "        self.fc3 = nn.Linear(512, 256)\n",
    "        self.fc4 = nn.Linear(256, 156)\n",
    "\n",
    "    def forward(self, x):\n",
    "\n",
    "        x = F.relu(self.conv1(x))\n",
    "        x = self.pool(F.relu(self.bn1(self.conv2(x))))\n",
    "\n",
    "        x = F.relu(self.conv3(x))\n",
    "        x = self.pool(F.relu(self.bn2(self.conv4(x))))\n",
    "\n",
    "        x = F.relu(self.conv5(x))\n",
    "        x = self.pool(F.relu(self.bn3(self.conv6(x))))\n",
    "\n",
    "        x = F.relu(self.conv7(x))\n",
    "        x = self.pool(F.relu(self.bn4(self.conv8(x))))\n",
    "\n",
    "        x = x.view(-1, 128 * 4 * 4)\n",
    "\n",
    "        x = F.relu(self.fc1(x))\n",
    "        x = F.relu(self.fc2(x))\n",
    "        x = F.relu(self.fc3(x))\n",
    "        x = self.fc4(x)\n",
    "\n",
    "        return x\n",
    "    \n",
    "model = DeepTamil2()\n",
    "model.to(device)"
   ]
  },
  {
   "cell_type": "code",
   "execution_count": 11,
   "id": "bba9c363",
   "metadata": {},
   "outputs": [],
   "source": [
    "criterion = nn.CrossEntropyLoss()\n",
    "optimizer = optim.AdamW(model.parameters(), weight_decay=0.0001, lr=1e-4)"
   ]
  },
  {
   "cell_type": "code",
   "execution_count": 11,
   "id": "8e98d85d",
   "metadata": {},
   "outputs": [],
   "source": [
    "def save_model(model, name):\n",
    "    torch.save(model.state_dict(), f'{name}.pt')"
   ]
  },
  {
   "cell_type": "code",
   "execution_count": 20,
   "id": "aebfdffa-1ece-4634-b378-76ff238f0d5a",
   "metadata": {},
   "outputs": [],
   "source": [
    "def early_stop(values):\n",
    "    if len(values) < 4:\n",
    "        return True  # Not enough data to compare\n",
    "\n",
    "    last = round(values[-1], 4)\n",
    "    second_last = round(values[-2], 4)\n",
    "    \n",
    "    return last > second_last"
   ]
  },
  {
   "cell_type": "code",
   "execution_count": 21,
   "id": "d46adad5",
   "metadata": {},
   "outputs": [
    {
     "name": "stdout",
     "output_type": "stream",
     "text": [
      "[1,   100] loss: 0.103\n",
      "[1,   200] loss: 0.083\n",
      "[1,   300] loss: 0.077\n",
      "[1,   400] loss: 0.068\n",
      "[1,   500] loss: 0.069\n",
      "[1,   600] loss: 0.062\n",
      "[1,   700] loss: 0.064\n",
      "[1,   800] loss: 0.072\n",
      "[1,   900] loss: 0.065\n",
      "[1,  1000] loss: 0.074\n",
      "[1,  1100] loss: 0.056\n",
      "[1,  1200] loss: 0.056\n",
      "[1,  1300] loss: 0.059\n",
      "[1,  1400] loss: 0.062\n",
      "[1,  1500] loss: 0.060\n",
      "[1,  1600] loss: 0.059\n",
      "[1,  1700] loss: 0.054\n",
      "[1,  1800] loss: 0.052\n",
      "[1,  1900] loss: 0.054\n",
      "[1,  2000] loss: 0.056\n",
      "[1,  2100] loss: 0.060\n",
      "[1,  2200] loss: 0.057\n",
      "EPOCH 1\n",
      "Training loss: 0.024715548123927105\n",
      "Training accuracy: 0.9770280983000088\n",
      "Validation loss: 0.025451287241151012\n",
      "Validation accuracy: 0.9755482270702971\n",
      "----------------------------------------------------\n",
      "[2,   100] loss: 0.038\n",
      "[2,   200] loss: 0.041\n",
      "[2,   300] loss: 0.041\n",
      "[2,   400] loss: 0.043\n",
      "[2,   500] loss: 0.039\n",
      "[2,   600] loss: 0.039\n",
      "[2,   700] loss: 0.038\n",
      "[2,   800] loss: 0.040\n",
      "[2,   900] loss: 0.038\n",
      "[2,  1000] loss: 0.044\n",
      "[2,  1100] loss: 0.040\n",
      "[2,  1200] loss: 0.045\n",
      "[2,  1300] loss: 0.044\n",
      "[2,  1400] loss: 0.043\n",
      "[2,  1500] loss: 0.039\n",
      "[2,  1600] loss: 0.050\n",
      "[2,  1700] loss: 0.041\n",
      "[2,  1800] loss: 0.041\n",
      "[2,  1900] loss: 0.039\n",
      "[2,  2000] loss: 0.044\n",
      "[2,  2100] loss: 0.043\n",
      "[2,  2200] loss: 0.041\n",
      "EPOCH 2\n",
      "Training loss: 0.01592196538974652\n",
      "Training accuracy: 0.9855086761208491\n",
      "Validation loss: 0.020473832226013105\n",
      "Validation accuracy: 0.9808190991600428\n",
      "----------------------------------------------------\n",
      "[3,   100] loss: 0.031\n",
      "[3,   200] loss: 0.021\n",
      "[3,   300] loss: 0.023\n",
      "[3,   400] loss: 0.033\n",
      "[3,   500] loss: 0.033\n",
      "[3,   600] loss: 0.035\n",
      "[3,   700] loss: 0.032\n",
      "[3,   800] loss: 0.034\n",
      "[3,   900] loss: 0.034\n",
      "[3,  1000] loss: 0.026\n",
      "[3,  1100] loss: 0.034\n",
      "[3,  1200] loss: 0.033\n",
      "[3,  1300] loss: 0.029\n",
      "[3,  1400] loss: 0.036\n",
      "[3,  1500] loss: 0.038\n",
      "[3,  1600] loss: 0.032\n",
      "[3,  1700] loss: 0.028\n",
      "[3,  1800] loss: 0.031\n",
      "[3,  1900] loss: 0.028\n",
      "[3,  2000] loss: 0.034\n",
      "[3,  2100] loss: 0.031\n",
      "[3,  2200] loss: 0.036\n",
      "EPOCH 3\n",
      "Training loss: 0.012042870056133912\n",
      "Training accuracy: 0.9889297982912005\n",
      "Validation loss: 0.01865592333324887\n",
      "Validation accuracy: 0.9826794069564238\n",
      "----------------------------------------------------\n",
      "[4,   100] loss: 0.024\n",
      "[4,   200] loss: 0.023\n",
      "[4,   300] loss: 0.032\n",
      "[4,   400] loss: 0.024\n",
      "[4,   500] loss: 0.030\n",
      "[4,   600] loss: 0.028\n",
      "[4,   700] loss: 0.024\n",
      "[4,   800] loss: 0.026\n",
      "[4,   900] loss: 0.027\n",
      "[4,  1000] loss: 0.023\n",
      "[4,  1100] loss: 0.027\n",
      "[4,  1200] loss: 0.024\n",
      "[4,  1300] loss: 0.033\n",
      "[4,  1400] loss: 0.021\n",
      "[4,  1500] loss: 0.028\n",
      "[4,  1600] loss: 0.025\n",
      "[4,  1700] loss: 0.026\n",
      "[4,  1800] loss: 0.029\n",
      "[4,  1900] loss: 0.030\n",
      "[4,  2000] loss: 0.027\n",
      "[4,  2100] loss: 0.029\n",
      "[4,  2200] loss: 0.034\n",
      "EPOCH 4\n",
      "Training loss: 0.010338129067699478\n",
      "Training accuracy: 0.9905011891130098\n",
      "Validation loss: 0.018538936327254323\n",
      "Validation accuracy: 0.9835813743728508\n",
      "----------------------------------------------------\n",
      "[5,   100] loss: 0.018\n",
      "[5,   200] loss: 0.015\n",
      "[5,   300] loss: 0.021\n",
      "[5,   400] loss: 0.022\n",
      "[5,   500] loss: 0.019\n",
      "[5,   600] loss: 0.021\n",
      "[5,   700] loss: 0.022\n",
      "[5,   800] loss: 0.024\n",
      "[5,   900] loss: 0.023\n",
      "[5,  1000] loss: 0.025\n",
      "[5,  1100] loss: 0.028\n",
      "[5,  1200] loss: 0.023\n",
      "[5,  1300] loss: 0.021\n",
      "[5,  1400] loss: 0.023\n",
      "[5,  1500] loss: 0.025\n",
      "[5,  1600] loss: 0.021\n",
      "[5,  1700] loss: 0.021\n",
      "[5,  1800] loss: 0.020\n",
      "[5,  1900] loss: 0.023\n",
      "[5,  2000] loss: 0.022\n",
      "[5,  2100] loss: 0.024\n",
      "[5,  2200] loss: 0.023\n",
      "EPOCH 5\n",
      "Training loss: 0.008383581013664054\n",
      "Training accuracy: 0.9924707125869814\n",
      "Validation loss: 0.021417551477839577\n",
      "Validation accuracy: 0.9811714301820846\n",
      "----------------------------------------------------\n"
     ]
    }
   ],
   "source": [
    "epoch_list = []\n",
    "train_loss = []\n",
    "val_loss = []\n",
    "train_accuracy = []\n",
    "val_accuracy = []\n",
    "\n",
    "mini_batch_list = []\n",
    "running_losses = []\n",
    "epochs = 45\n",
    "\n",
    "for epoch in range(epochs):\n",
    "    epoch_list.append(epoch)\n",
    "\n",
    "    curr_train_loss = 0.0\n",
    "    train_total = 0\n",
    "    train_correct = 0\n",
    "    running_loss = 0.0\n",
    "    for i, data in enumerate(training_loader, 0):\n",
    "        inputs, labels = data[0].to(device), data[1].to(device)\n",
    "        optimizer.zero_grad()\n",
    "        \n",
    "        outputs = model(inputs)\n",
    "        _, predicted = torch.max(outputs.data, 1)\n",
    "\n",
    "        curr_batch_size = labels.size(0)\n",
    "        train_total += labels.size(0)\n",
    "        train_correct += (predicted == labels).sum().item()\n",
    "\n",
    "        loss = criterion(outputs, labels)\n",
    "        loss.backward()\n",
    "        optimizer.step()\n",
    "        curr_train_loss += loss.item()\n",
    "        \n",
    "        running_loss += loss.item()\n",
    "        if i % 100 == 99:\n",
    "            print('[%d, %5d] loss: %.3f' % (epoch + 1, i + 1, running_loss / 100))\n",
    "            running_losses.append(running_loss)\n",
    "            mini_batch_list.append(epoch + i * curr_batch_size / len(trainset))\n",
    "            running_loss = 0.0\n",
    "    \n",
    "    train_loss.append(curr_train_loss / len(trainset) * curr_batch_size)\n",
    "    train_accuracy.append(train_correct / train_total)\n",
    "    \n",
    "    val_correct = 0\n",
    "    val_total = 0\n",
    "    curr_val_loss = 0.0\n",
    "    with torch.no_grad():\n",
    "        for data in validation_loader:\n",
    "            images, labels = data[0].to(device), data[1].to(device)\n",
    "            outputs = model(images)\n",
    "            _, predicted = torch.max(outputs.data, 1)\n",
    "            val_total += labels.size(0)\n",
    "            val_correct += (predicted == labels).sum().item()\n",
    "            curr_val_loss += criterion(outputs, labels).item()\n",
    "    val_loss.append(curr_val_loss / len(valset) * curr_batch_size)\n",
    "    val_accuracy.append(val_correct / val_total)\n",
    "    \n",
    "    save_model(model, f'tamil_model_{epoch}')\n",
    "\n",
    "    print('EPOCH ' + str(epoch + 1))\n",
    "    print('Training loss: ' + str(train_loss[-1]))\n",
    "    print('Training accuracy: ' + str(train_accuracy[-1]))\n",
    "    print('Validation loss: ' + str(val_loss[-1]))\n",
    "    print('Validation accuracy: ' + str(val_accuracy[-1]))\n",
    "    print('----------------------------------------------------')\n",
    "\n",
    "    if not early_stop(val_accuracy):\n",
    "        break"
   ]
  },
  {
   "cell_type": "code",
   "execution_count": 22,
   "id": "f44f1f2c",
   "metadata": {},
   "outputs": [
    {
     "name": "stderr",
     "output_type": "stream",
     "text": [
      "Clipping input data to the valid range for imshow with RGB data ([0..1] for floats or [0..255] for integers). Got range [-1.0..0.99215686].\n"
     ]
    },
    {
     "data": {
      "image/png": "[encoded data removed]",
      "text/plain": [
       "<Figure size 600x600 with 1 Axes>"
      ]
     },
     "metadata": {},
     "output_type": "display_data"
    },
    {
     "name": "stdout",
     "output_type": "stream",
     "text": [
      "torch.Size([128, 1, 64, 64])\n",
      "output tensor([ 49,  82,  93,  76, 112,  21], device='cuda:0') ['ய்', 'ஜ', 'நி', 'ள', 'எ', 'ா']\n",
      "label tensor([ 49,  82,  93,  76, 112,  21]) ['ய்', 'ஜ', 'நி', 'ள', 'எ', 'ா']\n"
     ]
    }
   ],
   "source": [
    "with torch.no_grad():\n",
    "    feature, label = test_loader._get_iterator().__next__()\n",
    "    image_show(torchvision.utils.make_grid(feature[:6]), 6)\n",
    "    print(feature.shape)\n",
    "    out = model(feature.to(device))\n",
    "    _, predicted = torch.max(out.data, 1)\n",
    "    print('output', predicted[:6], [classes[p] for p in predicted[:6]])\n",
    "    print('label', label[:6], [classes[p] for p in label[:6]])"
   ]
  },
  {
   "cell_type": "code",
   "execution_count": 14,
   "id": "5627d2ef",
   "metadata": {},
   "outputs": [
    {
     "name": "stdout",
     "output_type": "stream",
     "text": [
      "Accuracy of the network on the 10000 test images: 91.851742 %\n"
     ]
    }
   ],
   "source": [
    "correct = 0\n",
    "total = 0\n",
    "with torch.no_grad():\n",
    "    for data in test_loader:\n",
    "        images, labels = data[0].to(device), data[1].to(device)\n",
    "        outputs = model(images)\n",
    "        _, predicted = torch.max(outputs.data, 1)\n",
    "        total += labels.size(0)\n",
    "        correct += (predicted == labels).sum().item()\n",
    "\n",
    "print('Accuracy of the network on the 10000 test images: %f %%' % (100 * correct / total))"
   ]
  }
 ],
 "metadata": {
  "kernelspec": {
   "display_name": "Python 3 (ipykernel)",
   "language": "python",
   "name": "python3"
  },
  "language_info": {
   "codemirror_mode": {
    "name": "ipython",
    "version": 3
   },
   "file_extension": ".py",
   "mimetype": "text/x-python",
   "name": "python",
   "nbconvert_exporter": "python",
   "pygments_lexer": "ipython3",
   "version": "3.12.9"
  }
 },
 "nbformat": 4,
 "nbformat_minor": 5
}
